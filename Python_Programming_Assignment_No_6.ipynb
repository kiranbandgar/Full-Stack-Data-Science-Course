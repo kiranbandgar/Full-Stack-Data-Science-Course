{
  "nbformat": 4,
  "nbformat_minor": 0,
  "metadata": {
    "colab": {
      "name": "Python Programming Assignment No 6.ipynb",
      "provenance": []
    },
    "kernelspec": {
      "name": "python3",
      "display_name": "Python 3"
    },
    "language_info": {
      "name": "python"
    }
  },
  "cells": [
    {
      "cell_type": "code",
      "metadata": {
        "colab": {
          "base_uri": "https://localhost:8080/"
        },
        "id": "7pTsZ9rvcZMQ",
        "outputId": "bbff630c-d5f1-4d0c-9154-8f683ae09d43"
      },
      "source": [
        "#Write a Python Program to Display Fibonacci Sequence Using Recursion?\n",
        "def recur_fibo(n):\n",
        "   if n <= 1:\n",
        "       return n\n",
        "   else:\n",
        "       return(recur_fibo(n-1) + recur_fibo(n-2))\n",
        "nterms = 5\n",
        "if nterms <= 0:\n",
        "   print(\"Plese enter a positive integer\")\n",
        "else:\n",
        "   print(\"Fibonacci sequence:\")\n",
        "   for i in range(nterms):\n",
        "       print(recur_fibo(i))"
      ],
      "execution_count": 2,
      "outputs": [
        {
          "output_type": "stream",
          "name": "stdout",
          "text": [
            "Fibonacci sequence:\n",
            "0\n",
            "1\n",
            "1\n",
            "2\n",
            "3\n"
          ]
        }
      ]
    },
    {
      "cell_type": "code",
      "metadata": {
        "colab": {
          "base_uri": "https://localhost:8080/"
        },
        "id": "-Is-ZPqjcurj",
        "outputId": "68d9b77b-fb9e-4831-d056-eb6c2ef27e3a"
      },
      "source": [
        "#Write a Python Program to Find Factorial of Number Using Recursion\n",
        "def recur_factorial(n):\n",
        "   if n == 1:\n",
        "       return n\n",
        "   else:\n",
        "       return n*recur_factorial(n-1)\n",
        "num = 5\n",
        "if num < 0:\n",
        "   print(\"Sorry, factorial does not exist for negative numbers\")\n",
        "elif num == 0:\n",
        "   print(\"The factorial of 0 is 1\")\n",
        "else:\n",
        "   print(\"The factorial of\", num, \"is\", recur_factorial(num))"
      ],
      "execution_count": 3,
      "outputs": [
        {
          "output_type": "stream",
          "name": "stdout",
          "text": [
            "The factorial of 5 is 120\n"
          ]
        }
      ]
    },
    {
      "cell_type": "code",
      "metadata": {
        "colab": {
          "base_uri": "https://localhost:8080/"
        },
        "id": "Gj8Cy1_BdIoy",
        "outputId": "51142915-8559-458b-a6b2-a1f951a45a2a"
      },
      "source": [
        "#Write a Python Program to calculate your Body Mass Index?\n",
        "a=float(input('Enter your height in feet '))\n",
        "b=float(input('Enter your weight in kg'))\n",
        "bmi=b/(a*a)\n",
        "print('Your BMI is ',bmi)"
      ],
      "execution_count": 5,
      "outputs": [
        {
          "output_type": "stream",
          "name": "stdout",
          "text": [
            "Enter your height in feet 5.6\n",
            "Enter your weight in kg62\n",
            "Your BMI is  1.977040816326531\n"
          ]
        }
      ]
    },
    {
      "cell_type": "code",
      "metadata": {
        "colab": {
          "base_uri": "https://localhost:8080/"
        },
        "id": "ZYSvC-mkdrdN",
        "outputId": "4c48388d-bb5e-4b87-f1f8-60d0df3f3e71"
      },
      "source": [
        "#Write a Python Program to calculate the natural logarithm of any number?\n",
        "import math\n",
        "a=float(input('Enter a no '))\n",
        "print('The natural logarithm is ',math.log(a))"
      ],
      "execution_count": 7,
      "outputs": [
        {
          "output_type": "stream",
          "name": "stdout",
          "text": [
            "Enter a no 25.4\n",
            "The natural logarithm is  3.2347491740244907\n"
          ]
        }
      ]
    },
    {
      "cell_type": "code",
      "metadata": {
        "colab": {
          "base_uri": "https://localhost:8080/"
        },
        "id": "_jUxv685ebnu",
        "outputId": "44db268b-2755-4ec7-9ba6-8167b3859342"
      },
      "source": [
        "#Write a Python Program for cube sum of first n natural numbers?\n",
        "a=int(input('enter a no'))\n",
        "sum=0\n",
        "for i in range(1,a+1):\n",
        "  sum=sum+i*i*i\n",
        "print(sum)"
      ],
      "execution_count": 13,
      "outputs": [
        {
          "output_type": "stream",
          "name": "stdout",
          "text": [
            "enter a no5\n",
            "225\n"
          ]
        }
      ]
    },
    {
      "cell_type": "code",
      "metadata": {
        "id": "2LHdgK0gfWQr"
      },
      "source": [
        ""
      ],
      "execution_count": null,
      "outputs": []
    }
  ]
}