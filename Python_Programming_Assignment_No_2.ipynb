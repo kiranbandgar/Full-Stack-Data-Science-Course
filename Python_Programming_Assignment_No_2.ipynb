{
  "nbformat": 4,
  "nbformat_minor": 0,
  "metadata": {
    "colab": {
      "name": "Python Programming Assignment No 2.ipynb",
      "provenance": []
    },
    "kernelspec": {
      "name": "python3",
      "display_name": "Python 3"
    },
    "language_info": {
      "name": "python"
    }
  },
  "cells": [
    {
      "cell_type": "code",
      "metadata": {
        "colab": {
          "base_uri": "https://localhost:8080/"
        },
        "id": "Yi6RKJXmXdzD",
        "outputId": "99e3a920-fa2e-4de1-b2f6-3d411d27870c"
      },
      "source": [
        "#Write a Python program to convert kilometers to miles?\n",
        "kilometer=float(input('enter kilometers '))\n",
        "cov=kilometer*0.621371\n",
        "print('Coversion to miles is ',cov)"
      ],
      "execution_count": 1,
      "outputs": [
        {
          "output_type": "stream",
          "name": "stdout",
          "text": [
            "enter kilometers 10\n",
            "Coversion to miles is  6.21371\n"
          ]
        }
      ]
    },
    {
      "cell_type": "code",
      "metadata": {
        "colab": {
          "base_uri": "https://localhost:8080/"
        },
        "id": "SJMZcNJpYStV",
        "outputId": "a5fd27f1-b26a-4cfd-c200-a1327e592538"
      },
      "source": [
        "#Write a Python program to convert Celsius to Fahrenheit?\n",
        "celsius=float(input('enter celcius '))\n",
        "con=(celsius*9/5)+32\n",
        "print('Conversion to fahrenheit is ',con)"
      ],
      "execution_count": 5,
      "outputs": [
        {
          "output_type": "stream",
          "name": "stdout",
          "text": [
            "enter celcius 50\n",
            "Conversion to fahrenheit is  122.0\n"
          ]
        }
      ]
    },
    {
      "cell_type": "code",
      "metadata": {
        "colab": {
          "base_uri": "https://localhost:8080/"
        },
        "id": "S5mfepvAZElr",
        "outputId": "5d84c477-0c3c-42c6-e9bf-018af4eca0c3"
      },
      "source": [
        "#Write a Python program to display calendar?\n",
        "import calendar\n",
        "a=int(input('Enter year'))\n",
        "b=int(input('Enter month'))\n",
        "print(calendar.month(a,b))"
      ],
      "execution_count": 11,
      "outputs": [
        {
          "output_type": "stream",
          "name": "stdout",
          "text": [
            "Enter year21\n",
            "Enter month12\n",
            "    December 21\n",
            "Mo Tu We Th Fr Sa Su\n",
            "       1  2  3  4  5\n",
            " 6  7  8  9 10 11 12\n",
            "13 14 15 16 17 18 19\n",
            "20 21 22 23 24 25 26\n",
            "27 28 29 30 31\n",
            "\n"
          ]
        }
      ]
    },
    {
      "cell_type": "code",
      "metadata": {
        "colab": {
          "base_uri": "https://localhost:8080/"
        },
        "id": "i80cN1OzZ7a7",
        "outputId": "0fc60ead-e608-47d3-aa5f-38438f1b7630"
      },
      "source": [
        "#Write a Python program to solve quadratic equation?\n",
        "import cmath\n",
        "a=1\n",
        "b=2\n",
        "c=3\n",
        "d=b**2-4*a*c\n",
        "sol1 = (-b-cmath.sqrt(d))/(2*a)\n",
        "sol2 = (-b+cmath.sqrt(d))/(2*a)\n",
        "print('The solution are {0} and {1}'.format(sol1,sol2))"
      ],
      "execution_count": 12,
      "outputs": [
        {
          "output_type": "stream",
          "name": "stdout",
          "text": [
            "The solution are (-1-1.4142135623730951j) and (-1+1.4142135623730951j)\n"
          ]
        }
      ]
    },
    {
      "cell_type": "code",
      "metadata": {
        "colab": {
          "base_uri": "https://localhost:8080/"
        },
        "id": "b5QYdCLRbc-T",
        "outputId": "31388c6e-3e24-4c50-b9e2-cfdb0962f49e"
      },
      "source": [
        "#Write a Python program to swap two variables without temp variable?\n",
        "a=5\n",
        "b=10\n",
        "a,b=b,a\n",
        "print('a= ',a)\n",
        "print('b= ',b)"
      ],
      "execution_count": 13,
      "outputs": [
        {
          "output_type": "stream",
          "name": "stdout",
          "text": [
            "a=  10\n",
            "b=  5\n"
          ]
        }
      ]
    },
    {
      "cell_type": "code",
      "metadata": {
        "id": "Q6yold8wb1rq"
      },
      "source": [
        ""
      ],
      "execution_count": null,
      "outputs": []
    }
  ]
}