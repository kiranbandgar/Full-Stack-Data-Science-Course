{
  "nbformat": 4,
  "nbformat_minor": 0,
  "metadata": {
    "colab": {
      "name": "Python Programming Assignment No 1.ipynb",
      "provenance": []
    },
    "kernelspec": {
      "name": "python3",
      "display_name": "Python 3"
    },
    "language_info": {
      "name": "python"
    }
  },
  "cells": [
    {
      "cell_type": "code",
      "metadata": {
        "colab": {
          "base_uri": "https://localhost:8080/"
        },
        "id": "zIEeZ-4eUi_n",
        "outputId": "626395ec-30d0-4f84-efe7-83f1941e88f9"
      },
      "source": [
        "#Write a Python program to print \"Hello Python\"?\n",
        "print('Hello Python')"
      ],
      "execution_count": 1,
      "outputs": [
        {
          "output_type": "stream",
          "name": "stdout",
          "text": [
            "Hello Python\n"
          ]
        }
      ]
    },
    {
      "cell_type": "code",
      "metadata": {
        "colab": {
          "base_uri": "https://localhost:8080/"
        },
        "id": "QbT3xUVnUl40",
        "outputId": "1bd7b319-c273-4da1-fb9f-0d9541e51f43"
      },
      "source": [
        "#Write a Python program to do arithmetical operations addition and division.?\n",
        "a=int(input('enter a no '))\n",
        "b=int(input('enter a no '))\n",
        "addition=a+b\n",
        "division=a/b\n",
        "print('sum is ',addition)\n",
        "print('division is ',division)"
      ],
      "execution_count": 2,
      "outputs": [
        {
          "output_type": "stream",
          "name": "stdout",
          "text": [
            "enter a no 55\n",
            "enter a no 11\n",
            "sum is  66\n",
            "division is  5.0\n"
          ]
        }
      ]
    },
    {
      "cell_type": "code",
      "metadata": {
        "colab": {
          "base_uri": "https://localhost:8080/"
        },
        "id": "dUOOvG6iUpus",
        "outputId": "5c5f8c0b-f841-4a93-f729-73fc97b23eec"
      },
      "source": [
        "#Write a Python program to find the area of a triangle?\n",
        "a=int(input('enter base length '))\n",
        "b=int(input('enter height length '))\n",
        "area_of_triangle=(a*b)/2\n",
        "print('Area of triangle ',area_of_triangle)"
      ],
      "execution_count": 5,
      "outputs": [
        {
          "output_type": "stream",
          "name": "stdout",
          "text": [
            "enter base length 10\n",
            "enter height length 5\n",
            "Area of triangle  25.0\n"
          ]
        }
      ]
    },
    {
      "cell_type": "code",
      "metadata": {
        "colab": {
          "base_uri": "https://localhost:8080/"
        },
        "id": "Hvhp_6HcU5Al",
        "outputId": "57719a7e-7a13-4049-9a7b-b21b9ed05599"
      },
      "source": [
        "#Write a Python program to swap two variables?\n",
        "x=int(input('enter a no '))\n",
        "y=int(input('enter a no '))\n",
        "x,y=y,x\n",
        "print('x=',x)\n",
        "print('y=',y)"
      ],
      "execution_count": 8,
      "outputs": [
        {
          "output_type": "stream",
          "name": "stdout",
          "text": [
            "enter a no 10\n",
            "enter a no 20\n",
            "x= 20\n",
            "y= 10\n"
          ]
        }
      ]
    },
    {
      "cell_type": "code",
      "metadata": {
        "colab": {
          "base_uri": "https://localhost:8080/"
        },
        "id": "0bvUbPFZVlGE",
        "outputId": "8fa15531-9554-4938-f4e2-ce4b71b3e524"
      },
      "source": [
        "#Write a Python program to generate a random number?\n",
        "import random\n",
        "print(random.randint(0,10))"
      ],
      "execution_count": 16,
      "outputs": [
        {
          "output_type": "stream",
          "name": "stdout",
          "text": [
            "6\n"
          ]
        }
      ]
    },
    {
      "cell_type": "code",
      "metadata": {
        "id": "2cvfwmyJWDW1"
      },
      "source": [
        ""
      ],
      "execution_count": 15,
      "outputs": []
    }
  ]
}