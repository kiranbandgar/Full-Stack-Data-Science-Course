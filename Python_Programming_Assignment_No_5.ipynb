{
  "nbformat": 4,
  "nbformat_minor": 0,
  "metadata": {
    "colab": {
      "name": "Python Programming Assignment No 5.ipynb",
      "provenance": []
    },
    "kernelspec": {
      "name": "python3",
      "display_name": "Python 3"
    },
    "language_info": {
      "name": "python"
    }
  },
  "cells": [
    {
      "cell_type": "code",
      "metadata": {
        "colab": {
          "base_uri": "https://localhost:8080/"
        },
        "id": "RwEEyroiUZOm",
        "outputId": "35c566f1-2443-451d-cb9b-52fb1d9171dd"
      },
      "source": [
        "#Write a Python Program to Find LCM?\n",
        "def compute_lcm(x,y):\n",
        "  if x>y:\n",
        "    greater=x\n",
        "  else:\n",
        "    greater=y\n",
        "  while (True):\n",
        "    if ((greater%x==0) and (greater%y==0)):\n",
        "      lcm=greater\n",
        "      break\n",
        "    greater=greater+1\n",
        "  return lcm\n",
        "x=4\n",
        "y=5\n",
        "print(compute_lcm(x,y))"
      ],
      "execution_count": null,
      "outputs": [
        {
          "output_type": "stream",
          "name": "stdout",
          "text": [
            "20\n"
          ]
        }
      ]
    },
    {
      "cell_type": "code",
      "metadata": {
        "id": "TdxoGZULU565",
        "colab": {
          "base_uri": "https://localhost:8080/"
        },
        "outputId": "c0cdd125-ef24-413b-b91c-694882001b05"
      },
      "source": [
        "#Write a Python Program to Find HCF?\n",
        "def compute_hcf(x,y):\n",
        "  if x<y:\n",
        "    smaller=x\n",
        "  else:\n",
        "     smaller=y\n",
        "  for i in range(1,smaller+1):\n",
        "    if ((x%i==0)and(y%i==0)):\n",
        "      hcf=i\n",
        "    i=i+1\n",
        "  return hcf \n",
        "x=6\n",
        "y=9\n",
        "print(compute_hcf(x,y))"
      ],
      "execution_count": 18,
      "outputs": [
        {
          "output_type": "stream",
          "name": "stdout",
          "text": [
            "3\n"
          ]
        }
      ]
    },
    {
      "cell_type": "code",
      "metadata": {
        "colab": {
          "base_uri": "https://localhost:8080/"
        },
        "id": "zu11H1z3aAdy",
        "outputId": "ac4f0fe3-2dfa-45c4-86c5-19ce6c53f9f0"
      },
      "source": [
        "#Write a Python Program to Convert Decimal to Binary, Octal and Hexadecimal?\n",
        "dec =int(input('enter a no'))\n",
        "print(\"The decimal value of\", dec, \"is:\")\n",
        "print(bin(dec), \"in binary.\")\n",
        "print(oct(dec), \"in octal.\")\n",
        "print(hex(dec), \"in hexadecimal.\")"
      ],
      "execution_count": 19,
      "outputs": [
        {
          "output_type": "stream",
          "name": "stdout",
          "text": [
            "enter a no11\n",
            "The decimal value of 11 is:\n",
            "0b1011 in binary.\n",
            "0o13 in octal.\n",
            "0xb in hexadecimal.\n"
          ]
        }
      ]
    },
    {
      "cell_type": "code",
      "metadata": {
        "colab": {
          "base_uri": "https://localhost:8080/"
        },
        "id": "-JJaar2_ai9T",
        "outputId": "9653c271-1b95-4e37-e8a0-c9b03df89a49"
      },
      "source": [
        "#Write a Python Program To Find ASCII value of a character?\n",
        "a=str(input('enter a key'))\n",
        "print('ASCII value is ',ord(a))"
      ],
      "execution_count": 20,
      "outputs": [
        {
          "output_type": "stream",
          "name": "stdout",
          "text": [
            "enter a key5\n",
            "ASCII value is  53\n"
          ]
        }
      ]
    },
    {
      "cell_type": "code",
      "metadata": {
        "colab": {
          "base_uri": "https://localhost:8080/"
        },
        "id": "cEYIFfIJa8di",
        "outputId": "173f6119-3b4b-4004-fd93-d890a850a3f8"
      },
      "source": [
        "#Write a Python Program to Make a Simple Calculator with 4 basic mathematical operations?\n",
        "x=int(input('enter a no '))\n",
        "y=int(input('enter a no '))\n",
        "add=x+y\n",
        "print('The sum is ',add)\n",
        "sub=x-y\n",
        "print('The substraction is ',sub)\n",
        "mul=x*y\n",
        "print('The multiplication is ',mul)\n",
        "div=x/y\n",
        "print('The division is ',div)"
      ],
      "execution_count": 22,
      "outputs": [
        {
          "output_type": "stream",
          "name": "stdout",
          "text": [
            "enter a no 55\n",
            "enter a no 11\n",
            "The sum is  66\n",
            "The substraction is  44\n",
            "The multiplication is  605\n",
            "The division is  5.0\n"
          ]
        }
      ]
    },
    {
      "cell_type": "code",
      "metadata": {
        "id": "VbF6p5FxbyLa"
      },
      "source": [
        ""
      ],
      "execution_count": null,
      "outputs": []
    }
  ]
}